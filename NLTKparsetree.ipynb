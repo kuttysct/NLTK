{
  "nbformat": 4,
  "nbformat_minor": 0,
  "metadata": {
    "colab": {
      "name": "NLTKparsetree.ipynb",
      "version": "0.3.2",
      "provenance": [],
      "collapsed_sections": [],
      "include_colab_link": true
    },
    "kernelspec": {
      "name": "python3",
      "display_name": "Python 3"
    }
  },
  "cells": [
    {
      "cell_type": "markdown",
      "metadata": {
        "id": "view-in-github",
        "colab_type": "text"
      },
      "source": [
        "<a href=\"https://colab.research.google.com/github/kuttysct/NLTK/blob/master/NLTKparsetree.ipynb\" target=\"_parent\"><img src=\"https://colab.research.google.com/assets/colab-badge.svg\" alt=\"Open In Colab\"/></a>"
      ]
    },
    {
      "metadata": {
        "id": "Ihz-9gyqtNWg",
        "colab_type": "code",
        "colab": {}
      },
      "cell_type": "code",
      "source": [
        "import nltk\n",
        "from nltk.parse import RecursiveDescentParser\n",
        "from nltk import CFG\n",
        "grammar2 = nltk.CFG.fromstring(\"\"\"\n",
        "  S -> NP VP\n",
        "  VP -> V\n",
        "  NP -> Det N\n",
        "  Det -> 'the'\n",
        "  N -> 'bear'\n",
        "  V -> 'chased'  \n",
        "  \"\"\")"
      ],
      "execution_count": 0,
      "outputs": []
    },
    {
      "metadata": {
        "id": "9AtqKxhDuEGU",
        "colab_type": "code",
        "outputId": "c9c22751-286d-46f4-b3be-dc43ccecab27",
        "colab": {
          "base_uri": "https://localhost:8080/",
          "height": 51
        }
      },
      "cell_type": "code",
      "source": [
        "sent = \"the bear chased\".split()\n",
        "rd_parser = nltk.RecursiveDescentParser(grammar2)\n",
        "print(sent)\n",
        "print(rd_parser)\n"
      ],
      "execution_count": 0,
      "outputs": [
        {
          "output_type": "stream",
          "text": [
            "['the', 'bear', 'chased']\n",
            "<nltk.parse.recursivedescent.RecursiveDescentParser object at 0x7f4632fab940>\n"
          ],
          "name": "stdout"
        }
      ]
    },
    {
      "metadata": {
        "id": "yXx2OZRYuPlJ",
        "colab_type": "code",
        "outputId": "a9464daf-a22f-45bf-a8fe-2423089ab31f",
        "colab": {
          "base_uri": "https://localhost:8080/",
          "height": 34
        }
      },
      "cell_type": "code",
      "source": [
        "for tree in rd_parser.parse(sent):\n",
        "  print(tree)\n",
        "\n",
        "\n",
        " \n"
      ],
      "execution_count": 0,
      "outputs": [
        {
          "output_type": "stream",
          "text": [
            "(S (NP (Det the) (N bear)) (VP (V chased)))\n"
          ],
          "name": "stdout"
        }
      ]
    },
    {
      "metadata": {
        "id": "MgrXKsZs6HMV",
        "colab_type": "code",
        "colab": {}
      },
      "cell_type": "code",
      "source": [
        ""
      ],
      "execution_count": 0,
      "outputs": []
    },
    {
      "metadata": {
        "id": "7dCNJZWXA_9F",
        "colab_type": "text"
      },
      "cell_type": "markdown",
      "source": [
        "Ref\n",
        "https://www.nltk.org/book/ch08.html"
      ]
    }
  ]
}